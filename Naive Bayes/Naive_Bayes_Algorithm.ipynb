{
  "nbformat": 4,
  "nbformat_minor": 0,
  "metadata": {
    "colab": {
      "provenance": []
    },
    "kernelspec": {
      "name": "python3",
      "display_name": "Python 3"
    },
    "language_info": {
      "name": "python"
    }
  },
  "cells": [
    {
      "cell_type": "markdown",
      "source": [
        "# Implementation of Naive Bayes Algorithm"
      ],
      "metadata": {
        "id": "pvfKnOEui-0e"
      }
    },
    {
      "cell_type": "code",
      "execution_count": 1,
      "metadata": {
        "id": "iGUgOrxKi2Fx"
      },
      "outputs": [],
      "source": [
        "# Creating Dummy Dataset\n",
        "\n",
        "import numpy as np\n",
        "from sklearn.datasets import make_classification\n",
        "\n",
        "# Generating a synthetic dataset with outliers\n",
        "\n",
        "X,y = make_classification(n_samples=1000,n_features=10, random_state=42)\n",
        "\n",
        "# Adding outliers\n",
        "\n",
        "outliers = np.random.normal(loc=10, scale=5, size=(50,10))\n",
        "X= np.vstack((X,outliers))\n",
        "y = np.concatenate((y,np.ones(50))) # Assigning outliers class=1\n",
        "\n",
        "# Shuffle the data\n",
        "shuffle_indices = np.random.permutation(X.shape[0])\n",
        "\n",
        "X = X[shuffle_indices]\n",
        "y = y[shuffle_indices]"
      ]
    },
    {
      "cell_type": "code",
      "source": [
        "# Creating a Dataframe\n",
        "import pandas as pd\n",
        "\n",
        "df = pd.DataFrame(X, columns = [f\"Feature_{i}\" for i in range(10)])\n",
        "df[\"Target\"] = y\n",
        "df.head()"
      ],
      "metadata": {
        "colab": {
          "base_uri": "https://localhost:8080/",
          "height": 206
        },
        "id": "xU8spY9ik9U-",
        "outputId": "15e4acba-8e72-4ef9-d740-ea3f4b69ecf2"
      },
      "execution_count": 11,
      "outputs": [
        {
          "output_type": "execute_result",
          "data": {
            "text/plain": [
              "   Feature_0  Feature_1  Feature_2  Feature_3  Feature_4  Feature_5  \\\n",
              "0  -0.463023  -0.231301  -1.050694  -0.576420   0.861437   0.251317   \n",
              "1  -0.271618   0.632454  -0.692895  -0.474178  -0.852387   0.475366   \n",
              "2   0.148375  -2.077120   0.328198  -0.235274  -1.353755   0.734477   \n",
              "3   0.681272  -0.144879   0.724674   0.043041   0.135859  -0.052505   \n",
              "4  -0.100303  -0.168385   0.296444  -0.326012  -0.510989  -2.553550   \n",
              "\n",
              "   Feature_6  Feature_7  Feature_8  Feature_9  Target  \n",
              "0   2.538034  -0.699495  -1.584227   1.471035     1.0  \n",
              "1   1.722619   1.609521  -1.179412  -0.771772     1.0  \n",
              "2  -0.787362  -1.544936   0.479906   2.145825     0.0  \n",
              "3  -1.226054  -0.190446  -0.352381   1.022841     0.0  \n",
              "4  -1.050735  -0.153905   1.369050   0.390366     0.0  "
            ],
            "text/html": [
              "\n",
              "  <div id=\"df-725f341d-ccaa-4637-9b84-4554869403f7\">\n",
              "    <div class=\"colab-df-container\">\n",
              "      <div>\n",
              "<style scoped>\n",
              "    .dataframe tbody tr th:only-of-type {\n",
              "        vertical-align: middle;\n",
              "    }\n",
              "\n",
              "    .dataframe tbody tr th {\n",
              "        vertical-align: top;\n",
              "    }\n",
              "\n",
              "    .dataframe thead th {\n",
              "        text-align: right;\n",
              "    }\n",
              "</style>\n",
              "<table border=\"1\" class=\"dataframe\">\n",
              "  <thead>\n",
              "    <tr style=\"text-align: right;\">\n",
              "      <th></th>\n",
              "      <th>Feature_0</th>\n",
              "      <th>Feature_1</th>\n",
              "      <th>Feature_2</th>\n",
              "      <th>Feature_3</th>\n",
              "      <th>Feature_4</th>\n",
              "      <th>Feature_5</th>\n",
              "      <th>Feature_6</th>\n",
              "      <th>Feature_7</th>\n",
              "      <th>Feature_8</th>\n",
              "      <th>Feature_9</th>\n",
              "      <th>Target</th>\n",
              "    </tr>\n",
              "  </thead>\n",
              "  <tbody>\n",
              "    <tr>\n",
              "      <th>0</th>\n",
              "      <td>-0.463023</td>\n",
              "      <td>-0.231301</td>\n",
              "      <td>-1.050694</td>\n",
              "      <td>-0.576420</td>\n",
              "      <td>0.861437</td>\n",
              "      <td>0.251317</td>\n",
              "      <td>2.538034</td>\n",
              "      <td>-0.699495</td>\n",
              "      <td>-1.584227</td>\n",
              "      <td>1.471035</td>\n",
              "      <td>1.0</td>\n",
              "    </tr>\n",
              "    <tr>\n",
              "      <th>1</th>\n",
              "      <td>-0.271618</td>\n",
              "      <td>0.632454</td>\n",
              "      <td>-0.692895</td>\n",
              "      <td>-0.474178</td>\n",
              "      <td>-0.852387</td>\n",
              "      <td>0.475366</td>\n",
              "      <td>1.722619</td>\n",
              "      <td>1.609521</td>\n",
              "      <td>-1.179412</td>\n",
              "      <td>-0.771772</td>\n",
              "      <td>1.0</td>\n",
              "    </tr>\n",
              "    <tr>\n",
              "      <th>2</th>\n",
              "      <td>0.148375</td>\n",
              "      <td>-2.077120</td>\n",
              "      <td>0.328198</td>\n",
              "      <td>-0.235274</td>\n",
              "      <td>-1.353755</td>\n",
              "      <td>0.734477</td>\n",
              "      <td>-0.787362</td>\n",
              "      <td>-1.544936</td>\n",
              "      <td>0.479906</td>\n",
              "      <td>2.145825</td>\n",
              "      <td>0.0</td>\n",
              "    </tr>\n",
              "    <tr>\n",
              "      <th>3</th>\n",
              "      <td>0.681272</td>\n",
              "      <td>-0.144879</td>\n",
              "      <td>0.724674</td>\n",
              "      <td>0.043041</td>\n",
              "      <td>0.135859</td>\n",
              "      <td>-0.052505</td>\n",
              "      <td>-1.226054</td>\n",
              "      <td>-0.190446</td>\n",
              "      <td>-0.352381</td>\n",
              "      <td>1.022841</td>\n",
              "      <td>0.0</td>\n",
              "    </tr>\n",
              "    <tr>\n",
              "      <th>4</th>\n",
              "      <td>-0.100303</td>\n",
              "      <td>-0.168385</td>\n",
              "      <td>0.296444</td>\n",
              "      <td>-0.326012</td>\n",
              "      <td>-0.510989</td>\n",
              "      <td>-2.553550</td>\n",
              "      <td>-1.050735</td>\n",
              "      <td>-0.153905</td>\n",
              "      <td>1.369050</td>\n",
              "      <td>0.390366</td>\n",
              "      <td>0.0</td>\n",
              "    </tr>\n",
              "  </tbody>\n",
              "</table>\n",
              "</div>\n",
              "      <button class=\"colab-df-convert\" onclick=\"convertToInteractive('df-725f341d-ccaa-4637-9b84-4554869403f7')\"\n",
              "              title=\"Convert this dataframe to an interactive table.\"\n",
              "              style=\"display:none;\">\n",
              "        \n",
              "  <svg xmlns=\"http://www.w3.org/2000/svg\" height=\"24px\"viewBox=\"0 0 24 24\"\n",
              "       width=\"24px\">\n",
              "    <path d=\"M0 0h24v24H0V0z\" fill=\"none\"/>\n",
              "    <path d=\"M18.56 5.44l.94 2.06.94-2.06 2.06-.94-2.06-.94-.94-2.06-.94 2.06-2.06.94zm-11 1L8.5 8.5l.94-2.06 2.06-.94-2.06-.94L8.5 2.5l-.94 2.06-2.06.94zm10 10l.94 2.06.94-2.06 2.06-.94-2.06-.94-.94-2.06-.94 2.06-2.06.94z\"/><path d=\"M17.41 7.96l-1.37-1.37c-.4-.4-.92-.59-1.43-.59-.52 0-1.04.2-1.43.59L10.3 9.45l-7.72 7.72c-.78.78-.78 2.05 0 2.83L4 21.41c.39.39.9.59 1.41.59.51 0 1.02-.2 1.41-.59l7.78-7.78 2.81-2.81c.8-.78.8-2.07 0-2.86zM5.41 20L4 18.59l7.72-7.72 1.47 1.35L5.41 20z\"/>\n",
              "  </svg>\n",
              "      </button>\n",
              "      \n",
              "  <style>\n",
              "    .colab-df-container {\n",
              "      display:flex;\n",
              "      flex-wrap:wrap;\n",
              "      gap: 12px;\n",
              "    }\n",
              "\n",
              "    .colab-df-convert {\n",
              "      background-color: #E8F0FE;\n",
              "      border: none;\n",
              "      border-radius: 50%;\n",
              "      cursor: pointer;\n",
              "      display: none;\n",
              "      fill: #1967D2;\n",
              "      height: 32px;\n",
              "      padding: 0 0 0 0;\n",
              "      width: 32px;\n",
              "    }\n",
              "\n",
              "    .colab-df-convert:hover {\n",
              "      background-color: #E2EBFA;\n",
              "      box-shadow: 0px 1px 2px rgba(60, 64, 67, 0.3), 0px 1px 3px 1px rgba(60, 64, 67, 0.15);\n",
              "      fill: #174EA6;\n",
              "    }\n",
              "\n",
              "    [theme=dark] .colab-df-convert {\n",
              "      background-color: #3B4455;\n",
              "      fill: #D2E3FC;\n",
              "    }\n",
              "\n",
              "    [theme=dark] .colab-df-convert:hover {\n",
              "      background-color: #434B5C;\n",
              "      box-shadow: 0px 1px 3px 1px rgba(0, 0, 0, 0.15);\n",
              "      filter: drop-shadow(0px 1px 2px rgba(0, 0, 0, 0.3));\n",
              "      fill: #FFFFFF;\n",
              "    }\n",
              "  </style>\n",
              "\n",
              "      <script>\n",
              "        const buttonEl =\n",
              "          document.querySelector('#df-725f341d-ccaa-4637-9b84-4554869403f7 button.colab-df-convert');\n",
              "        buttonEl.style.display =\n",
              "          google.colab.kernel.accessAllowed ? 'block' : 'none';\n",
              "\n",
              "        async function convertToInteractive(key) {\n",
              "          const element = document.querySelector('#df-725f341d-ccaa-4637-9b84-4554869403f7');\n",
              "          const dataTable =\n",
              "            await google.colab.kernel.invokeFunction('convertToInteractive',\n",
              "                                                     [key], {});\n",
              "          if (!dataTable) return;\n",
              "\n",
              "          const docLinkHtml = 'Like what you see? Visit the ' +\n",
              "            '<a target=\"_blank\" href=https://colab.research.google.com/notebooks/data_table.ipynb>data table notebook</a>'\n",
              "            + ' to learn more about interactive tables.';\n",
              "          element.innerHTML = '';\n",
              "          dataTable['output_type'] = 'display_data';\n",
              "          await google.colab.output.renderOutput(dataTable, element);\n",
              "          const docLink = document.createElement('div');\n",
              "          docLink.innerHTML = docLinkHtml;\n",
              "          element.appendChild(docLink);\n",
              "        }\n",
              "      </script>\n",
              "    </div>\n",
              "  </div>\n",
              "  "
            ]
          },
          "metadata": {},
          "execution_count": 11
        }
      ]
    },
    {
      "cell_type": "code",
      "source": [
        "# Plotting Outliers\n",
        "\n",
        "import seaborn as sns\n",
        "import matplotlib.pyplot as plt\n",
        "\n",
        "# Plotting boxplots for each features\n",
        "\n",
        "plt.figure(figsize=(12,6))\n",
        "sns.boxplot(data=df.iloc[:,:-1])\n",
        "plt.title(\"Box plot for each feature\")\n",
        "plt.xlabel(\"Features\")\n",
        "plt.ylabel(\"Values\")\n",
        "plt.xticks(rotation=45)\n",
        "plt.show()"
      ],
      "metadata": {
        "colab": {
          "base_uri": "https://localhost:8080/",
          "height": 608
        },
        "id": "RnMKZq2Hkc0i",
        "outputId": "fd3ac4e4-9dad-4586-adb0-db2c5cd01f68"
      },
      "execution_count": 12,
      "outputs": [
        {
          "output_type": "display_data",
          "data": {
            "text/plain": [
              "<Figure size 1200x600 with 1 Axes>"
            ],
            "image/png": "[encoded data removed]"
          },
          "metadata": {}
        }
      ]
    },
    {
      "cell_type": "markdown",
      "source": [
        "## Now applying Naive Bayes algorithm to the dataset"
      ],
      "metadata": {
        "id": "2ghXh6B0mqba"
      }
    },
    {
      "cell_type": "code",
      "source": [
        "from sklearn.model_selection import train_test_split\n",
        "from sklearn.naive_bayes import GaussianNB\n",
        "from sklearn.metrics import accuracy_score\n"
      ],
      "metadata": {
        "id": "p717ipNSmf_P"
      },
      "execution_count": 13,
      "outputs": []
    },
    {
      "cell_type": "code",
      "source": [
        "# Split the dataset into training and testing sets\n",
        "X_train,X_test,y_train,y_test = train_test_split(X,y,test_size=0.2, random_state=42)"
      ],
      "metadata": {
        "id": "vGyTPXRvnqlv"
      },
      "execution_count": 14,
      "outputs": []
    },
    {
      "cell_type": "code",
      "source": [
        "# Train the naive bayes classifier\n",
        "clf = GaussianNB()\n",
        "clf.fit(X_train, y_train)\n",
        "\n",
        "# Make predictions on test set\n",
        "y_pred = clf.predict(X_test)\n",
        "\n",
        "# Calculate the accuracy of the model\n",
        "\n",
        "accuracy = accuracy_score(y_test, y_pred)\n",
        "\n",
        "print(\"Accuracy:\", accuracy)"
      ],
      "metadata": {
        "colab": {
          "base_uri": "https://localhost:8080/"
        },
        "id": "IUGmovYnnubK",
        "outputId": "d22b5351-5f7c-4419-f37f-8a25770dcfd8"
      },
      "execution_count": 16,
      "outputs": [
        {
          "output_type": "stream",
          "name": "stdout",
          "text": [
            "Accuracy: 0.6904761904761905\n"
          ]
        }
      ]
    },
    {
      "cell_type": "code",
      "source": [],
      "metadata": {
        "id": "cPcfskGIodcV"
      },
      "execution_count": null,
      "outputs": []
    }
  ]
}